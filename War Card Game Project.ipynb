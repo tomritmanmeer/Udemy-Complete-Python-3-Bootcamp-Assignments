{
 "cells": [
  {
   "cell_type": "markdown",
   "id": "2cfc81b4",
   "metadata": {},
   "source": [
    "# War Card Game Project\n",
    "\n",
    "Project consists of the tasks below:\n",
    "* Create Card Class to allow players to define specific cards played and held in their hand\n",
    "* Create Packck Class to define the full pack of cards and allow shuffling method\n",
    "* Create Player Class to allow the player to hold cards in their hand\n",
    "* Define game logic and use created classes to play "
   ]
  },
  {
   "cell_type": "code",
   "execution_count": 1,
   "id": "cde03578",
   "metadata": {},
   "outputs": [],
   "source": [
    "import random\n",
    "#First define card suits, ranks and value corresponding to each rank. Use tuples for immutability\n",
    "suits = ('Clubs','Diamonds','Hearts','Spades')\n",
    "ranks = ('Two', 'Three', 'Four', 'Five', 'Six', 'Seven', 'Eight', 'Nine', 'Ten', 'Jack', 'Queen', 'King', 'Ace')\n",
    "values = {'Two':2, 'Three':3, 'Four':4, 'Five':5, 'Six':6, 'Seven':7, 'Eight':8, 'Nine':9, \n",
    "          'Ten':10, 'Jack':11, 'Queen':12, 'King':13, 'Ace':14}\n",
    "#In this game the highest card laid wins, so fine to use defined values for Jack, Queen, King and Ace"
   ]
  },
  {
   "cell_type": "markdown",
   "id": "b784f31e",
   "metadata": {},
   "source": [
    "## Define Card Class"
   ]
  },
  {
   "cell_type": "code",
   "execution_count": 2,
   "id": "714e276a",
   "metadata": {},
   "outputs": [],
   "source": [
    "class Card:\n",
    "    \n",
    "    def __init__(self,suit,rank):\n",
    "        self.suit = suit\n",
    "        self.rank = rank\n",
    "        self.value = values[rank]\n",
    "    \n",
    "    def __str__(self):\n",
    "        return self.rank + \" of \" + self.suit"
   ]
  },
  {
   "cell_type": "code",
   "execution_count": 3,
   "id": "e1c892d1",
   "metadata": {},
   "outputs": [
    {
     "name": "stdout",
     "output_type": "stream",
     "text": [
      "Six of Spades\n"
     ]
    }
   ],
   "source": [
    "#select a random card\n",
    "random_card = Card(suits[random.randint(0,3)],ranks[random.randint(0,12)])\n",
    "print(f\"{random_card.rank} of {random_card.suit}\")"
   ]
  },
  {
   "cell_type": "code",
   "execution_count": 4,
   "id": "ba8c9485",
   "metadata": {},
   "outputs": [
    {
     "data": {
      "text/plain": [
       "__main__.Card"
      ]
     },
     "execution_count": 4,
     "metadata": {},
     "output_type": "execute_result"
    }
   ],
   "source": [
    "type(random_card)"
   ]
  },
  {
   "cell_type": "markdown",
   "id": "d20e53e1",
   "metadata": {},
   "source": [
    "## Define Pack Class"
   ]
  },
  {
   "cell_type": "code",
   "execution_count": 5,
   "id": "30725d1c",
   "metadata": {},
   "outputs": [],
   "source": [
    "class Pack:\n",
    "    \n",
    "    def __init__(self):\n",
    "        self.all_cards = []\n",
    "        for suit in suits:\n",
    "            for rank in ranks:\n",
    "                self.all_cards.append(Card(suit,rank)) #use the Card class within the Pack class to create the pack of cards\n",
    "                \n",
    "    def shuffle(self):\n",
    "        random.shuffle(self.all_cards)\n",
    "        \n",
    "    def deal(self):\n",
    "        return self.all_cards.pop(0)"
   ]
  },
  {
   "cell_type": "code",
   "execution_count": 6,
   "id": "6d4cd9f4",
   "metadata": {},
   "outputs": [
    {
     "data": {
      "text/plain": [
       "52"
      ]
     },
     "execution_count": 6,
     "metadata": {},
     "output_type": "execute_result"
    }
   ],
   "source": [
    "my_pack = Pack()  #instantiate an object of the Deck class\n",
    "len(my_pack.all_cards) #check deck has 52 cards"
   ]
  },
  {
   "cell_type": "code",
   "execution_count": 7,
   "id": "f727276d",
   "metadata": {},
   "outputs": [
    {
     "name": "stdout",
     "output_type": "stream",
     "text": [
      "Ace of Clubs\n"
     ]
    }
   ],
   "source": [
    "my_pack.shuffle()\n",
    "print(my_pack.all_cards[0])"
   ]
  },
  {
   "cell_type": "code",
   "execution_count": 8,
   "id": "e8d94aff",
   "metadata": {},
   "outputs": [
    {
     "name": "stdout",
     "output_type": "stream",
     "text": [
      "Ace of Clubs\n"
     ]
    }
   ],
   "source": [
    "print(my_pack.deal())"
   ]
  },
  {
   "cell_type": "markdown",
   "id": "73c23060",
   "metadata": {},
   "source": [
    "## Define Player Class"
   ]
  },
  {
   "cell_type": "code",
   "execution_count": 9,
   "id": "e782fd9e",
   "metadata": {},
   "outputs": [],
   "source": [
    "class Player:\n",
    "    \n",
    "    def __init__(self,name):\n",
    "        self.name = name\n",
    "        self.all_cards = []\n",
    "    \n",
    "    def remove_one(self):\n",
    "        # remove one card from the player's list of all_cards\n",
    "        return self.all_cards.pop(0)\n",
    "    \n",
    "    def add_cards(self,new_cards):\n",
    "        # need to choose whether to extend (multiple cards) or append list (single card)\n",
    "        if type(new_cards) == type([]):\n",
    "            self.all_cards.extend(new_cards)\n",
    "        else:\n",
    "            self.all_cards.append(new_cards)\n",
    "    \n",
    "    def __str__(self):\n",
    "        return f\"{self.name} has {len(self.all_cards)} cards\""
   ]
  },
  {
   "cell_type": "code",
   "execution_count": 10,
   "id": "4d0437dc",
   "metadata": {},
   "outputs": [
    {
     "name": "stdout",
     "output_type": "stream",
     "text": [
      "Tom has 0 cards\n"
     ]
    }
   ],
   "source": [
    "tom = Player(\"Tom\")\n",
    "print(tom)"
   ]
  },
  {
   "cell_type": "code",
   "execution_count": 11,
   "id": "d7c4ac78",
   "metadata": {},
   "outputs": [
    {
     "name": "stdout",
     "output_type": "stream",
     "text": [
      "Tom has 1 cards\n"
     ]
    }
   ],
   "source": [
    "tom.add_cards(random_card)\n",
    "print(tom)"
   ]
  },
  {
   "cell_type": "markdown",
   "id": "fa6623f5",
   "metadata": {},
   "source": [
    "## Game Setup"
   ]
  },
  {
   "cell_type": "code",
   "execution_count": 12,
   "id": "e6a67143",
   "metadata": {},
   "outputs": [
    {
     "name": "stdout",
     "output_type": "stream",
     "text": [
      "Enter player one name: Tom\n",
      "Enter player two name: Sky\n"
     ]
    }
   ],
   "source": [
    "# define two players using the Player class\n",
    "player_one = input(\"Enter player one name: \")\n",
    "player_two = input(\"Enter player two name: \")\n",
    "\n",
    "p1 = Player(\"player_one\")\n",
    "p2 = Player(\"player_two\")\n",
    "\n",
    "# instantiate new pack of cards using the Pack class\n",
    "new_pack = Pack()\n",
    "new_pack.shuffle()\n",
    "\n",
    "# deal the pack equally between the two players\n",
    "for i in range(26):\n",
    "    p1.add_cards(new_pack.deal())\n",
    "    p2.add_cards(new_pack.deal())\n",
    "\n",
    "# set game_on equal to True until someone loses and then break out of while loop\n",
    "game_on = True"
   ]
  },
  {
   "cell_type": "markdown",
   "id": "09bc0905",
   "metadata": {},
   "source": [
    "## Game Logic"
   ]
  },
  {
   "cell_type": "code",
   "execution_count": 13,
   "id": "59969da7",
   "metadata": {},
   "outputs": [
    {
     "name": "stdout",
     "output_type": "stream",
     "text": [
      "Round: 1 - Tom: 26 - Sky: 26\n",
      "Round: 2 - Tom: 25 - Sky: 27\n",
      "Round: 3 - Tom: 26 - Sky: 26\n",
      "Round: 4 - Tom: 25 - Sky: 27\n",
      "Round: 5 - Tom: 26 - Sky: 26\n",
      "Round: 6 - Tom: 27 - Sky: 25\n",
      "Round: 7 - Tom: 26 - Sky: 26\n",
      "Round: 8 - Tom: 27 - Sky: 25\n",
      "Round: 9 - Tom: 26 - Sky: 26\n",
      "Round: 10 - Tom: 27 - Sky: 25\n",
      "Round: 11 - Tom: 28 - Sky: 24\n",
      "Round: 12 - Tom: 27 - Sky: 25\n",
      "Round: 13 - Tom: 28 - Sky: 24\n",
      "Round: 14 - Tom: 27 - Sky: 25\n",
      "Round: 15 - Tom: 26 - Sky: 26\n",
      "Round: 16 - Tom: 25 - Sky: 27\n",
      "War!\n",
      "Round: 17 - Tom: 31 - Sky: 21\n",
      "Round: 18 - Tom: 32 - Sky: 20\n",
      "Round: 19 - Tom: 31 - Sky: 21\n",
      "Round: 20 - Tom: 30 - Sky: 22\n",
      "Round: 21 - Tom: 29 - Sky: 23\n",
      "Round: 22 - Tom: 30 - Sky: 22\n",
      "Round: 23 - Tom: 29 - Sky: 23\n",
      "Round: 24 - Tom: 30 - Sky: 22\n",
      "Round: 25 - Tom: 29 - Sky: 23\n",
      "Round: 26 - Tom: 30 - Sky: 22\n",
      "Round: 27 - Tom: 29 - Sky: 23\n",
      "Round: 28 - Tom: 30 - Sky: 22\n",
      "Round: 29 - Tom: 29 - Sky: 23\n",
      "Round: 30 - Tom: 28 - Sky: 24\n",
      "Round: 31 - Tom: 27 - Sky: 25\n",
      "Round: 32 - Tom: 28 - Sky: 24\n",
      "Round: 33 - Tom: 27 - Sky: 25\n",
      "Round: 34 - Tom: 28 - Sky: 24\n",
      "Round: 35 - Tom: 27 - Sky: 25\n",
      "Round: 36 - Tom: 28 - Sky: 24\n",
      "Round: 37 - Tom: 27 - Sky: 25\n",
      "Round: 38 - Tom: 26 - Sky: 26\n",
      "Round: 39 - Tom: 25 - Sky: 27\n",
      "Round: 40 - Tom: 24 - Sky: 28\n",
      "War!\n",
      "Round: 41 - Tom: 30 - Sky: 22\n",
      "Round: 42 - Tom: 29 - Sky: 23\n",
      "Round: 43 - Tom: 30 - Sky: 22\n",
      "Round: 44 - Tom: 29 - Sky: 23\n",
      "Round: 45 - Tom: 30 - Sky: 22\n",
      "Round: 46 - Tom: 29 - Sky: 23\n",
      "Round: 47 - Tom: 30 - Sky: 22\n",
      "Round: 48 - Tom: 29 - Sky: 23\n",
      "Round: 49 - Tom: 30 - Sky: 22\n",
      "Round: 50 - Tom: 29 - Sky: 23\n",
      "Round: 51 - Tom: 30 - Sky: 22\n",
      "Round: 52 - Tom: 29 - Sky: 23\n",
      "Round: 53 - Tom: 30 - Sky: 22\n",
      "Round: 54 - Tom: 29 - Sky: 23\n",
      "Round: 55 - Tom: 30 - Sky: 22\n",
      "Round: 56 - Tom: 29 - Sky: 23\n",
      "Round: 57 - Tom: 30 - Sky: 22\n",
      "Round: 58 - Tom: 29 - Sky: 23\n",
      "Round: 59 - Tom: 30 - Sky: 22\n",
      "Round: 60 - Tom: 31 - Sky: 21\n",
      "Round: 61 - Tom: 30 - Sky: 22\n",
      "Round: 62 - Tom: 31 - Sky: 21\n",
      "Round: 63 - Tom: 32 - Sky: 20\n",
      "Round: 64 - Tom: 31 - Sky: 21\n",
      "Round: 65 - Tom: 30 - Sky: 22\n",
      "War!\n",
      "Round: 66 - Tom: 24 - Sky: 28\n",
      "Round: 67 - Tom: 23 - Sky: 29\n",
      "Round: 68 - Tom: 24 - Sky: 28\n",
      "Round: 69 - Tom: 23 - Sky: 29\n",
      "Round: 70 - Tom: 24 - Sky: 28\n",
      "Round: 71 - Tom: 23 - Sky: 29\n",
      "Round: 72 - Tom: 24 - Sky: 28\n",
      "Round: 73 - Tom: 23 - Sky: 29\n",
      "Round: 74 - Tom: 22 - Sky: 30\n",
      "Round: 75 - Tom: 21 - Sky: 31\n",
      "Round: 76 - Tom: 22 - Sky: 30\n",
      "Round: 77 - Tom: 21 - Sky: 31\n",
      "Round: 78 - Tom: 22 - Sky: 30\n",
      "Round: 79 - Tom: 21 - Sky: 31\n",
      "Round: 80 - Tom: 22 - Sky: 30\n",
      "Round: 81 - Tom: 21 - Sky: 31\n",
      "Round: 82 - Tom: 22 - Sky: 30\n",
      "Round: 83 - Tom: 21 - Sky: 31\n",
      "Round: 84 - Tom: 22 - Sky: 30\n",
      "Round: 85 - Tom: 21 - Sky: 31\n",
      "Round: 86 - Tom: 22 - Sky: 30\n",
      "Round: 87 - Tom: 21 - Sky: 31\n",
      "Round: 88 - Tom: 22 - Sky: 30\n",
      "Round: 89 - Tom: 21 - Sky: 31\n",
      "Round: 90 - Tom: 20 - Sky: 32\n",
      "Round: 91 - Tom: 21 - Sky: 31\n",
      "Round: 92 - Tom: 22 - Sky: 30\n",
      "Round: 93 - Tom: 21 - Sky: 31\n",
      "Round: 94 - Tom: 22 - Sky: 30\n",
      "Round: 95 - Tom: 21 - Sky: 31\n",
      "Round: 96 - Tom: 22 - Sky: 30\n",
      "Round: 97 - Tom: 21 - Sky: 31\n",
      "Round: 98 - Tom: 22 - Sky: 30\n",
      "Round: 99 - Tom: 21 - Sky: 31\n",
      "Round: 100 - Tom: 22 - Sky: 30\n",
      "Round: 101 - Tom: 21 - Sky: 31\n",
      "Round: 102 - Tom: 22 - Sky: 30\n",
      "Round: 103 - Tom: 21 - Sky: 31\n",
      "Round: 104 - Tom: 22 - Sky: 30\n",
      "War!\n",
      "Round: 105 - Tom: 28 - Sky: 24\n",
      "Round: 106 - Tom: 27 - Sky: 25\n",
      "Round: 107 - Tom: 28 - Sky: 24\n",
      "Round: 108 - Tom: 27 - Sky: 25\n",
      "Round: 109 - Tom: 28 - Sky: 24\n",
      "Round: 110 - Tom: 27 - Sky: 25\n",
      "War!\n",
      "War!\n",
      "Round: 111 - Tom: 38 - Sky: 14\n",
      "Round: 112 - Tom: 37 - Sky: 15\n",
      "Round: 113 - Tom: 38 - Sky: 14\n",
      "Round: 114 - Tom: 37 - Sky: 15\n",
      "Round: 115 - Tom: 38 - Sky: 14\n",
      "War!\n",
      "Round: 116 - Tom: 44 - Sky: 8\n",
      "Round: 117 - Tom: 43 - Sky: 9\n",
      "Round: 118 - Tom: 44 - Sky: 8\n",
      "Round: 119 - Tom: 43 - Sky: 9\n",
      "Round: 120 - Tom: 44 - Sky: 8\n",
      "Round: 121 - Tom: 43 - Sky: 9\n",
      "Round: 122 - Tom: 44 - Sky: 8\n",
      "Round: 123 - Tom: 43 - Sky: 9\n",
      "Round: 124 - Tom: 44 - Sky: 8\n",
      "Round: 125 - Tom: 43 - Sky: 9\n",
      "Round: 126 - Tom: 44 - Sky: 8\n",
      "Round: 127 - Tom: 43 - Sky: 9\n",
      "Round: 128 - Tom: 44 - Sky: 8\n",
      "Round: 129 - Tom: 43 - Sky: 9\n",
      "Round: 130 - Tom: 44 - Sky: 8\n",
      "Round: 131 - Tom: 43 - Sky: 9\n",
      "Round: 132 - Tom: 42 - Sky: 10\n",
      "Round: 133 - Tom: 41 - Sky: 11\n",
      "Round: 134 - Tom: 42 - Sky: 10\n",
      "Round: 135 - Tom: 41 - Sky: 11\n",
      "Round: 136 - Tom: 42 - Sky: 10\n",
      "Round: 137 - Tom: 41 - Sky: 11\n",
      "Round: 138 - Tom: 42 - Sky: 10\n",
      "Round: 139 - Tom: 41 - Sky: 11\n",
      "Round: 140 - Tom: 42 - Sky: 10\n",
      "Round: 141 - Tom: 41 - Sky: 11\n",
      "Round: 142 - Tom: 42 - Sky: 10\n",
      "Round: 143 - Tom: 41 - Sky: 11\n",
      "Round: 144 - Tom: 42 - Sky: 10\n",
      "Round: 145 - Tom: 41 - Sky: 11\n",
      "Round: 146 - Tom: 42 - Sky: 10\n",
      "Round: 147 - Tom: 41 - Sky: 11\n",
      "Round: 148 - Tom: 42 - Sky: 10\n",
      "Round: 149 - Tom: 43 - Sky: 9\n",
      "Round: 150 - Tom: 44 - Sky: 8\n",
      "Round: 151 - Tom: 45 - Sky: 7\n",
      "Round: 152 - Tom: 44 - Sky: 8\n",
      "Round: 153 - Tom: 45 - Sky: 7\n",
      "Round: 154 - Tom: 44 - Sky: 8\n",
      "Round: 155 - Tom: 45 - Sky: 7\n",
      "Round: 156 - Tom: 44 - Sky: 8\n",
      "Round: 157 - Tom: 43 - Sky: 9\n",
      "Round: 158 - Tom: 44 - Sky: 8\n",
      "Round: 159 - Tom: 43 - Sky: 9\n",
      "Round: 160 - Tom: 44 - Sky: 8\n",
      "Round: 161 - Tom: 43 - Sky: 9\n",
      "Round: 162 - Tom: 44 - Sky: 8\n",
      "Round: 163 - Tom: 43 - Sky: 9\n",
      "Round: 164 - Tom: 44 - Sky: 8\n",
      "Round: 165 - Tom: 43 - Sky: 9\n",
      "Round: 166 - Tom: 44 - Sky: 8\n",
      "Round: 167 - Tom: 43 - Sky: 9\n",
      "Round: 168 - Tom: 44 - Sky: 8\n",
      "Round: 169 - Tom: 43 - Sky: 9\n",
      "Round: 170 - Tom: 44 - Sky: 8\n",
      "Round: 171 - Tom: 43 - Sky: 9\n",
      "Round: 172 - Tom: 44 - Sky: 8\n",
      "Round: 173 - Tom: 43 - Sky: 9\n",
      "War!\n",
      "Sky is unable to play. Tom wins!\n"
     ]
    }
   ],
   "source": [
    "round_num = 0\n",
    "while game_on:\n",
    "    \n",
    "    round_num += 1\n",
    "    # display round number and the number of cards held by each player after that round number\n",
    "    print(f'Round: {round_num} - {player_one}: {len(p1.all_cards)} - {player_two}: {len(p2.all_cards)}')\n",
    "    \n",
    "    #check to see if a player is out of cards\n",
    "    if len(p1.all_cards) == 0:\n",
    "        print(f'{player_one} is out of cards. {player_two} Wins!')\n",
    "        game_on = False\n",
    "        break\n",
    "    \n",
    "    if len(p2.all_cards) == 0:\n",
    "        print(f'{player_two} is out of cards. {player_one} Wins!')\n",
    "        game_on = False\n",
    "        break\n",
    "        \n",
    "    #if neither player is out of cards, continue to play the game\n",
    "    #start a new round and reset current cards on the table\n",
    "    \n",
    "    p1_cards = []\n",
    "    p1_cards.append(p1.remove_one())\n",
    "    \n",
    "    p2_cards = []\n",
    "    p2_cards.append(p2.remove_one())\n",
    "    \n",
    "    at_war = True\n",
    "    \n",
    "    while at_war:\n",
    "        # if the last laid by p2 is greater than the last card laid by p1 then p2 wins the cards and war is over\n",
    "        if p2_cards[-1].value > p1_cards[-1].value:\n",
    "            p2.add_cards(p2_cards)\n",
    "            p2.add_cards(p1_cards)\n",
    "            at_war = False\n",
    "        # if the last laid by p1 is greater than the last card laid by p2 then p1 wins the cards and war is over    \n",
    "        elif p2_cards[-1].value < p1_cards[-1].value:\n",
    "            p1.add_cards(p2_cards)\n",
    "            p1.add_cards(p1_cards)\n",
    "            at_war = False\n",
    "        \n",
    "        else:\n",
    "            # if neither player's card is of higher value then the cards are equal and it's war\n",
    "            print(\"War!\")\n",
    "            # if p1 has less than 5 cards they are unable to play and lose, break out of game_on while loop\n",
    "            if len(p1.all_cards) < 10:\n",
    "                print(f'{player_one} is unable to play. {player_two} wins!')\n",
    "                game_on = False\n",
    "                break\n",
    "            # if p2 has less than 5 cards they unable to play and lose, break out of game_on while loop\n",
    "            elif len(p2.all_cards) < 10:\n",
    "                print(f'{player_two} is unable to play. {player_one} wins!')\n",
    "                game_on = False\n",
    "                break\n",
    "            \n",
    "            else:\n",
    "                #still at war, since both players can still play\n",
    "                for num in range(5):\n",
    "                    # both players lay down five cards from their hand to be won on the next lay\n",
    "                    p1_cards.append(p1.remove_one())\n",
    "                    p2_cards.append(p2.remove_one())\n",
    "                    # revert back to start of while at_war loop"
   ]
  },
  {
   "cell_type": "code",
   "execution_count": null,
   "id": "e5fde845",
   "metadata": {},
   "outputs": [],
   "source": []
  }
 ],
 "metadata": {
  "kernelspec": {
   "display_name": "Python 3",
   "language": "python",
   "name": "python3"
  },
  "language_info": {
   "codemirror_mode": {
    "name": "ipython",
    "version": 3
   },
   "file_extension": ".py",
   "mimetype": "text/x-python",
   "name": "python",
   "nbconvert_exporter": "python",
   "pygments_lexer": "ipython3",
   "version": "3.8.8"
  }
 },
 "nbformat": 4,
 "nbformat_minor": 5
}
