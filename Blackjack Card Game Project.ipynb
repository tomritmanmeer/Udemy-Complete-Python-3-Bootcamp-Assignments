{
 "cells": [
  {
   "cell_type": "markdown",
   "id": "0054b23a",
   "metadata": {},
   "source": [
    "# Blackjack Card Game - Milestone Project 2\n",
    "\n",
    "Project consists of the tasks below:\n",
    "* Create Card Class to allow players to define specific cards played and held in their hand\n",
    "* Create Pack Class to define the full pack of cards and allow shuffling method\n",
    "* Create a Hand Class to allow the player to hold cards in their hand\n",
    "* Create a Chip Class to allow the player to place bets\n",
    "* Create functions for taking bets, hits, prompting player input, display cards and handle end of game scenarios\n",
    "* Define game logic and use created classes to play "
   ]
  },
  {
   "cell_type": "code",
   "execution_count": 1,
   "id": "e2440972",
   "metadata": {},
   "outputs": [],
   "source": [
    "import random\n",
    "\n",
    "#define our card suits, ranks and corresponding values in order to create the deck class and play the game\n",
    "suits = ('Clubs','Diamonds','Hearts','Spades')\n",
    "ranks = ('Two', 'Three', 'Four', 'Five', 'Six', 'Seven', 'Eight', 'Nine', 'Ten', 'Jack', 'Queen', 'King', 'Ace')\n",
    "values = {'Two':2, 'Three':3, 'Four':4, 'Five':5, 'Six':6, 'Seven':7, 'Eight':8, 'Nine':9, 'Ten':10, 'Jack':10,\n",
    "         'Queen':10, 'King':10, 'Ace':11}\n",
    "\n",
    "#declare Boolean value to be used to control while loops in the game play\n",
    "playing = True"
   ]
  },
  {
   "cell_type": "code",
   "execution_count": 2,
   "id": "2bb6ec0d",
   "metadata": {},
   "outputs": [
    {
     "data": {
      "text/plain": [
       "'Clubs'"
      ]
     },
     "execution_count": 2,
     "metadata": {},
     "output_type": "execute_result"
    }
   ],
   "source": [
    "suits[random.randint(0,3)]"
   ]
  },
  {
   "cell_type": "code",
   "execution_count": 3,
   "id": "00735bda",
   "metadata": {},
   "outputs": [
    {
     "data": {
      "text/plain": [
       "'Three'"
      ]
     },
     "execution_count": 3,
     "metadata": {},
     "output_type": "execute_result"
    }
   ],
   "source": [
    "ranks[random.randint(0,12)]"
   ]
  },
  {
   "cell_type": "markdown",
   "id": "b6f56a48",
   "metadata": {},
   "source": [
    "## Define Card Class"
   ]
  },
  {
   "cell_type": "code",
   "execution_count": 4,
   "id": "4575d88b",
   "metadata": {},
   "outputs": [],
   "source": [
    "class Card():\n",
    "    \n",
    "    def __init__(self,suit,rank):\n",
    "        self.suit = suit\n",
    "        self.rank = rank\n",
    "        self.value = values[rank]\n",
    "        \n",
    "    def __str__(self):\n",
    "        return self.rank+' of '+self.suit"
   ]
  },
  {
   "cell_type": "code",
   "execution_count": 5,
   "id": "645dee0a",
   "metadata": {},
   "outputs": [
    {
     "name": "stdout",
     "output_type": "stream",
     "text": [
      "Seven of Hearts\n"
     ]
    }
   ],
   "source": [
    "random_card = Card(suits[random.randint(0,3)],ranks[random.randint(0,12)])\n",
    "print(random_card)"
   ]
  },
  {
   "cell_type": "markdown",
   "id": "07d4405c",
   "metadata": {},
   "source": [
    "## Define Pack Class"
   ]
  },
  {
   "cell_type": "code",
   "execution_count": 6,
   "id": "2ac670c2",
   "metadata": {},
   "outputs": [],
   "source": [
    "class Pack():\n",
    "    \n",
    "    def __init__(self):\n",
    "        self.pack = []\n",
    "        for suit in suits:\n",
    "            for rank in ranks:\n",
    "                self.pack.append(Card(suit,rank)) # self.pack is a list of objects of the Card class\n",
    "        \n",
    "    def shuffle(self):\n",
    "        random.shuffle(self.pack) # shuffles the pack inplace\n",
    "    \n",
    "    def deal(self):\n",
    "        return self.pack.pop() # returns a Card type object\n",
    "    \n",
    "    def __str__(self):\n",
    "        pack_comp = ''  # start with an empty string\n",
    "        for card in self.pack:\n",
    "            pack_comp += '\\n '+card.__str__() # add each Card object's print string\n",
    "        return 'The Pack has:' + pack_comp        "
   ]
  },
  {
   "cell_type": "code",
   "execution_count": 7,
   "id": "4199a408",
   "metadata": {},
   "outputs": [],
   "source": [
    "new_pack = Pack()\n",
    "new_pack.shuffle()"
   ]
  },
  {
   "cell_type": "code",
   "execution_count": 8,
   "id": "2f38516d",
   "metadata": {},
   "outputs": [
    {
     "name": "stdout",
     "output_type": "stream",
     "text": [
      "The Pack has:\n",
      " Nine of Hearts\n",
      " Two of Clubs\n",
      " Ten of Diamonds\n",
      " Queen of Diamonds\n",
      " Ten of Hearts\n",
      " Seven of Spades\n",
      " Ten of Clubs\n",
      " Queen of Spades\n",
      " Eight of Hearts\n",
      " King of Spades\n",
      " Eight of Diamonds\n",
      " Three of Diamonds\n",
      " Seven of Hearts\n",
      " Eight of Spades\n",
      " Jack of Clubs\n",
      " Jack of Hearts\n",
      " Seven of Clubs\n",
      " Five of Hearts\n",
      " King of Diamonds\n",
      " Four of Clubs\n",
      " Three of Clubs\n",
      " Five of Diamonds\n",
      " Queen of Hearts\n",
      " Six of Diamonds\n",
      " Five of Clubs\n",
      " King of Clubs\n",
      " Ace of Diamonds\n",
      " Queen of Clubs\n",
      " Three of Spades\n",
      " Nine of Clubs\n",
      " Ten of Spades\n",
      " Five of Spades\n",
      " Two of Spades\n",
      " Ace of Clubs\n",
      " Ace of Hearts\n",
      " Three of Hearts\n",
      " Jack of Diamonds\n",
      " Four of Spades\n",
      " Two of Diamonds\n",
      " Eight of Clubs\n",
      " Four of Hearts\n",
      " Seven of Diamonds\n",
      " Nine of Diamonds\n",
      " Six of Hearts\n",
      " Six of Clubs\n",
      " Ace of Spades\n",
      " Nine of Spades\n",
      " Jack of Spades\n",
      " Four of Diamonds\n",
      " Six of Spades\n",
      " Two of Hearts\n",
      " King of Hearts\n"
     ]
    }
   ],
   "source": [
    "print(new_pack)"
   ]
  },
  {
   "cell_type": "markdown",
   "id": "f6dc5cc9",
   "metadata": {},
   "source": [
    "## Define Hand Class"
   ]
  },
  {
   "cell_type": "code",
   "execution_count": 9,
   "id": "ce4ab79c",
   "metadata": {},
   "outputs": [],
   "source": [
    "class Hand():\n",
    "    \n",
    "    def __init__(self):\n",
    "        self.cards = [] # no cards laid initially\n",
    "        self.value = 0\n",
    "        self.aces = 0\n",
    "    \n",
    "    def add_card(self,card):\n",
    "        self.cards.append(card) # add the card item specified in the argument to the player's list of cards\n",
    "        self.value += values[card.rank] # add the value of the card to the total value of the player's hand\n",
    "        if card.rank == 'Ace':\n",
    "            self.aces += 1\n",
    "        \n",
    "    def adjust_for_ace(self):\n",
    "        while self.value > 21 and self.aces: # if self.value is greater than 21 and any of the cards are aces\n",
    "            self.value -= 10  # reduce self.value by 10 for the first ace, i.e. aces count as 1 and not 11\n",
    "            self.aces -= 1 # reduce the number of aces by 1 and then repeat the loop if condition is still True\n"
   ]
  },
  {
   "cell_type": "code",
   "execution_count": 10,
   "id": "3f6a521f",
   "metadata": {},
   "outputs": [
    {
     "name": "stdout",
     "output_type": "stream",
     "text": [
      "2\n",
      "12\n",
      "18\n"
     ]
    }
   ],
   "source": [
    "test_pack = Pack()\n",
    "test_pack.shuffle()\n",
    "test_player = Hand()\n",
    "test_player.add_card(test_pack.deal())\n",
    "print(test_player.value)\n",
    "test_player.add_card(test_pack.deal())\n",
    "print(test_player.value)\n",
    "test_player.add_card(test_pack.deal())\n",
    "print(test_player.value)"
   ]
  },
  {
   "cell_type": "markdown",
   "id": "66e60f7a",
   "metadata": {},
   "source": [
    "## Define Chips Class"
   ]
  },
  {
   "cell_type": "code",
   "execution_count": 11,
   "id": "4d745564",
   "metadata": {},
   "outputs": [],
   "source": [
    "class Chips():\n",
    "    \n",
    "    def __init__(self):\n",
    "        self.total = 200\n",
    "        self.bet = 0\n",
    "        \n",
    "    def win_bet(self):\n",
    "        self.total += self.bet\n",
    "        \n",
    "    def lose_bet(self):\n",
    "        self.total -= self.bet"
   ]
  },
  {
   "cell_type": "markdown",
   "id": "6666cde7",
   "metadata": {},
   "source": [
    "## Define Game Functions"
   ]
  },
  {
   "cell_type": "code",
   "execution_count": 12,
   "id": "3682ab07",
   "metadata": {},
   "outputs": [],
   "source": [
    "def take_bet(chips): # function to allow bets to be placed up to a maximum of the player's available chips\n",
    "    \n",
    "    while True: \n",
    "        try: \n",
    "            chips.bet = int(input('How many chips would you like to bet? '))\n",
    "        except ValueError:\n",
    "            print('Bet must be an integer!')\n",
    "        else:\n",
    "            if chips.bet > chips.total:\n",
    "                print(\"Sorry, your bet can't exceed\",chips.total)\n",
    "            else:\n",
    "                break"
   ]
  },
  {
   "cell_type": "code",
   "execution_count": 13,
   "id": "f45c2b2c",
   "metadata": {},
   "outputs": [],
   "source": [
    "def hit(pack,hand): # function for dealing a new card from the pack\n",
    "    \n",
    "    hand.add_card(pack.deal())\n",
    "    hand.adjust_for_ace()"
   ]
  },
  {
   "cell_type": "code",
   "execution_count": 14,
   "id": "f96784a3",
   "metadata": {},
   "outputs": [],
   "source": [
    "def hit_or_stand(pack,hand): # function to allow the player to choose whether to hit or stand\n",
    "    global playing  # to control upcoming while loop\n",
    "    \n",
    "    while True:\n",
    "        x = input(\"Would you like to Hit or Stand? Enter 'h' or 's': \")\n",
    "        \n",
    "        if x[0].lower() == 'h':\n",
    "            hit(pack,hand)  # hit() function defined above\n",
    "\n",
    "        elif x[0].lower() == 's':\n",
    "            print(\"Player stands. Dealer is playing.\")\n",
    "            playing = False\n",
    "\n",
    "        else:\n",
    "            print(\"Please try again\")\n",
    "            continue\n",
    "        break"
   ]
  },
  {
   "cell_type": "code",
   "execution_count": 15,
   "id": "a90a528e",
   "metadata": {},
   "outputs": [],
   "source": [
    "def show_some(player,dealer): # function to show player's cards and the dealer's during play\n",
    "    print(\"\\nDealer's Hand:\")\n",
    "    print(\" HIDDEN CARD\")\n",
    "    print('',dealer.cards[1])  \n",
    "    print(\"\\nPlayer's Hand:\", *player.cards, sep='\\n ')\n",
    "    print(\"Player's Hand =\",player.value)\n",
    "    \n",
    "def show_all(player,dealer): # function to show all cards and total value for dealer and player hands\n",
    "    print(\"\\nDealer's Hand:\", *dealer.cards, sep='\\n ')\n",
    "    print(\"Dealer's Hand =\",dealer.value)\n",
    "    print(\"\\nPlayer's Hand:\", *player.cards, sep='\\n ')\n",
    "    print(\"Player's Hand =\",player.value)"
   ]
  },
  {
   "cell_type": "markdown",
   "id": "cd62d395",
   "metadata": {},
   "source": [
    "## Functions to handle end of game scenarios"
   ]
  },
  {
   "cell_type": "code",
   "execution_count": 16,
   "id": "eb4718a1",
   "metadata": {},
   "outputs": [],
   "source": [
    "def player_busts(player,dealer,chips): # call if player busts\n",
    "    print(\"Player Busts!\")\n",
    "    chips.lose_bet()\n",
    "\n",
    "def player_wins(player,dealer,chips): # call if player wins hand\n",
    "    print(\"Player Wins!\")\n",
    "    chips.win_bet()\n",
    "\n",
    "def dealer_busts(player,dealer,chips): # call if dealer busts\n",
    "    print(\"Dealer Busts!\")\n",
    "    chips.win_bet()\n",
    "    \n",
    "def dealer_wins(player,dealer,chips): # call if dealer wins\n",
    "    print(\"Dealer Wins!\")\n",
    "    chips.lose_bet()\n",
    "    \n",
    "def tie(player,dealer,chips): # call if there is a tie\n",
    "    print(\"Dealer and Player Tie. Dealer Wins!\")\n",
    "    chips.lose_bet()"
   ]
  },
  {
   "cell_type": "markdown",
   "id": "aada0737",
   "metadata": {},
   "source": [
    "## Game Logic"
   ]
  },
  {
   "cell_type": "code",
   "execution_count": 17,
   "id": "aa049b21",
   "metadata": {},
   "outputs": [
    {
     "name": "stdout",
     "output_type": "stream",
     "text": [
      "This is BlackJack - Get as close to 21 as you can without going over.\n",
      "    Dealer hits until they reach 17.\n",
      "How many chips would you like to bet? 100\n",
      "\n",
      "Dealer's Hand:\n",
      " HIDDEN CARD\n",
      " Ace of Hearts\n",
      "\n",
      "Player's Hand:\n",
      " Two of Hearts\n",
      " Nine of Hearts\n",
      "Player's Hand = 11\n",
      "Would you like to Hit or Stand? Enter 'h' or 's': h\n",
      "\n",
      "Dealer's Hand:\n",
      " HIDDEN CARD\n",
      " Ace of Hearts\n",
      "\n",
      "Player's Hand:\n",
      " Two of Hearts\n",
      " Nine of Hearts\n",
      " Eight of Clubs\n",
      "Player's Hand = 19\n",
      "Would you like to Hit or Stand? Enter 'h' or 's': s\n",
      "Player stands. Dealer is playing.\n",
      "\n",
      "Dealer's Hand:\n",
      " HIDDEN CARD\n",
      " Ace of Hearts\n",
      "\n",
      "Player's Hand:\n",
      " Two of Hearts\n",
      " Nine of Hearts\n",
      " Eight of Clubs\n",
      "Player's Hand = 19\n",
      "\n",
      "Dealer's Hand:\n",
      " Five of Clubs\n",
      " Ace of Hearts\n",
      " Ace of Clubs\n",
      "Dealer's Hand = 17\n",
      "\n",
      "Player's Hand:\n",
      " Two of Hearts\n",
      " Nine of Hearts\n",
      " Eight of Clubs\n",
      "Player's Hand = 19\n",
      "Player Wins!\n",
      "\n",
      " Player has  300  chips.\n",
      "Would you like to play again? y/n: n\n",
      "Thanks for playing!\n"
     ]
    }
   ],
   "source": [
    "while True:\n",
    "    print('This is BlackJack - Get as close to 21 as you can without going over.\\n\\\n",
    "    Dealer hits until they reach 17.')\n",
    "    \n",
    "    pack = Pack() # instantiate a new pack\n",
    "    pack.shuffle() # shuffle the pack\n",
    "    \n",
    "    player_hand = Hand() # create player hand and deal cards from pack\n",
    "    player_hand.add_card(pack.deal())\n",
    "    player_hand.add_card(pack.deal())\n",
    "    \n",
    "    dealer_hand = Hand() # create dealer hand and deal cards from pack\n",
    "    dealer_hand.add_card(pack.deal())\n",
    "    dealer_hand.add_card(pack.deal())\n",
    "    \n",
    "    player_chips = Chips() # Set up the Player's chips\n",
    "    \n",
    "    take_bet(player_chips) # Prompt the Player for their bet\n",
    "\n",
    "    show_some(player_hand,dealer_hand) # Show cards (but keep one dealer card hidden)\n",
    "    \n",
    "    while playing:  # recall this variable from hit_or_stand function\n",
    "        \n",
    "        hit_or_stand(pack,player_hand) # Prompt for Player to Hit or Stand\n",
    "        \n",
    "        show_some(player_hand,dealer_hand) # Show cards (but keep one dealer card hidden)\n",
    " \n",
    "        if player_hand.value > 21: # If player's hand exceeds 21, run player_busts() and break out of loop\n",
    "            player_busts(player_hand,dealer_hand,player_chips)\n",
    "            break\n",
    "        \n",
    "    if player_hand.value <= 21: # if player has not busted play dealer's hand until dealer reaches 17\n",
    "        \n",
    "        while dealer_hand.value < 17: # dealer hits until his hand value is 17 or more\n",
    "            hit(pack,dealer_hand)\n",
    "        \n",
    "        show_all(player_hand,dealer_hand) # show all cards\n",
    "        \n",
    "        # given that player has not busted run different game scenarios\n",
    "    \n",
    "        if dealer_hand.value > 21:\n",
    "            dealer_busts(player_hand,dealer_hand,player_chips)\n",
    "        \n",
    "        elif player_hand.value > dealer_hand.value:\n",
    "            player_wins(player_hand,dealer_hand,player_chips)\n",
    "            \n",
    "        elif player_hand.value < dealer_hand.value:\n",
    "            dealer_wins(player_hand,dealer_hand,player_chips)\n",
    "        \n",
    "        else:\n",
    "            tie(player_hand,dealer_hand,player_chips)\n",
    "        \n",
    "    print('\\n Player has ',player_chips.total,' chips.')\n",
    "    \n",
    "    new_game = input('Would you like to play again? y/n: ')\n",
    "    if new_game[0].lower() == 'y':\n",
    "        playing = True\n",
    "        continue\n",
    "    \n",
    "    else:\n",
    "        print('Thanks for playing!')\n",
    "        playing = False\n",
    "        break\n",
    "        "
   ]
  },
  {
   "cell_type": "code",
   "execution_count": null,
   "id": "23041744",
   "metadata": {},
   "outputs": [],
   "source": []
  }
 ],
 "metadata": {
  "kernelspec": {
   "display_name": "Python 3",
   "language": "python",
   "name": "python3"
  },
  "language_info": {
   "codemirror_mode": {
    "name": "ipython",
    "version": 3
   },
   "file_extension": ".py",
   "mimetype": "text/x-python",
   "name": "python",
   "nbconvert_exporter": "python",
   "pygments_lexer": "ipython3",
   "version": "3.8.8"
  }
 },
 "nbformat": 4,
 "nbformat_minor": 5
}
