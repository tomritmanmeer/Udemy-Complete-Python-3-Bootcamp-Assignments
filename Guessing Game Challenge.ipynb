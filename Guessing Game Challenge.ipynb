{
 "cells": [
  {
   "cell_type": "markdown",
   "metadata": {},
   "source": [
    "___\n",
    "\n",
    ]
  },
  {
   "cell_type": "markdown",
   "metadata": {},
   "source": [
    "# Guessing Game Challenge\n",
    "\n",
    "Let's use `while` loops to create a guessing game.\n",
    "\n",
    "The Challenge:\n",
    "\n",
    "Write a program that picks a random integer from 1 to 100, and has players guess the number. The rules are:\n",
    "\n",
    "1. If a player's guess is less than 1 or greater than 100, say \"OUT OF BOUNDS\"\n",
    "2. On a player's first turn, if their guess is\n",
    " * within 10 of the number, return \"WARM!\"\n",
    " * further than 10 away from the number, return \"COLD!\"\n",
    "3. On all subsequent turns, if a guess is \n",
    " * closer to the number than the previous guess return \"WARMER!\"\n",
    " * farther from the number than the previous guess, return \"COLDER!\"\n",
    "4. When the player's guess equals the number, tell them they've guessed correctly *and* how many guesses it took!\n",
    "\n",
    "You can try this from scratch, or follow the steps outlined below. A separate Solution notebook has been provided. Good luck!\n"
   ]
  },
  {
   "cell_type": "markdown",
   "metadata": {},
   "source": [
    "#### First, pick a random integer from 1 to 100 using the random module and assign it to a variable\n",
    "\n",
    "Note: `random.randint(a,b)` returns a random integer in range `[a, b]`, including both end points."
   ]
  },
  {
   "cell_type": "code",
   "execution_count": 1,
   "metadata": {},
   "outputs": [
    {
     "name": "stdout",
     "output_type": "stream",
     "text": [
      "17\n"
     ]
    }
   ],
   "source": [
    "import random\n",
    "my_num = random.randint(1,100)\n",
    "print(my_num)"
   ]
  },
  {
   "cell_type": "markdown",
   "metadata": {},
   "source": [
    "#### Next, print an introduction to the game and explain the rules"
   ]
  },
  {
   "cell_type": "code",
   "execution_count": 2,
   "metadata": {},
   "outputs": [
    {
     "name": "stdout",
     "output_type": "stream",
     "text": [
      "Welcome to Guessing Game Challenge!\n",
      "I am thinking of a number between 1 and 100\n",
      "Choose a whole number between 1 and 100\n",
      "If your guess is within 10 of my number I'll tell you your guess is WARM\n",
      "If your guess is more than 10 away from my number I'll tell you your guess is COLD\n",
      "If your guess is closer to my number than your previous guess I'll tell you your guess is WARMER\n",
      "If your guess is further from my number than your previous guess I'll tell you your guess is COLDER\n"
     ]
    }
   ],
   "source": [
    "print(\"Welcome to Guessing Game Challenge!\\nI am thinking of a number between 1 and 100\")\n",
    "print(\"Choose a whole number between 1 and 100\")\n",
    "print(\"If your guess is within 10 of my number I'll tell you your guess is WARM\")\n",
    "print(\"If your guess is more than 10 away from my number I'll tell you your guess is COLD\")\n",
    "print(\"If your guess is closer to my number than your previous guess I'll tell you your guess is WARMER\")\n",
    "print(\"If your guess is further from my number than your previous guess I'll tell you your guess is COLDER\")"
   ]
  },
  {
   "cell_type": "markdown",
   "metadata": {},
   "source": [
    "#### Create a list to store guesses\n",
    "\n",
    "Hint: zero is a good placeholder value. It's useful because it evaluates to \"False\""
   ]
  },
  {
   "cell_type": "code",
   "execution_count": 3,
   "metadata": {},
   "outputs": [],
   "source": [
    "guess_list = [0]"
   ]
  },
  {
   "cell_type": "markdown",
   "metadata": {},
   "source": [
    "#### Write a `while` loop that asks for a valid guess. Test it a few times to make sure it works."
   ]
  },
  {
   "cell_type": "code",
   "execution_count": 4,
   "metadata": {},
   "outputs": [
    {
     "name": "stdout",
     "output_type": "stream",
     "text": [
      "Please enter your guess as a number between 1 and 100: -5\n",
      "Your number is outside the range 1 to 100! Please choose another number.\n",
      "Please enter your guess as a number between 1 and 100: 105\n",
      "Your number is outside the range 1 to 100! Please choose another number.\n",
      "Please enter your guess as a number between 1 and 100: 56\n"
     ]
    }
   ],
   "source": [
    "while True:\n",
    "    guess = int(input(\"Please enter your guess as a number between 1 and 100: \"))\n",
    "    if guess <1 or guess >100:\n",
    "        print(\"Your number is outside the range 1 to 100! Please choose another number.\")\n",
    "        continue\n",
    "    break"
   ]
  },
  {
   "cell_type": "markdown",
   "metadata": {},
   "source": [
    "#### Write a `while` loop that compares the player's guess to our number. If the player guesses correctly, break from the loop. Otherwise, tell the player if they're warmer or colder, and continue asking for guesses.\n",
    "\n",
    "Some hints:\n",
    "* it may help to sketch out all possible combinations on paper first!\n",
    "* you can use the `abs()` function to find the positive difference between two numbers\n",
    "* if you append all new guesses to the list, then the previous guess is given as `guesses[-2]`"
   ]
  },
  {
   "cell_type": "code",
   "execution_count": 5,
   "metadata": {},
   "outputs": [
    {
     "name": "stdout",
     "output_type": "stream",
     "text": [
      "Please enter your guess as a number between 1 and 100: 45\n",
      "COLD!\n",
      "Please enter your guess as a number between 1 and 100: 65\n",
      "COLDER!\n",
      "Please enter your guess as a number between 1 and 100: 30\n",
      "WARMER!\n",
      "Please enter your guess as a number between 1 and 100: 40\n",
      "COLDER!\n",
      "Please enter your guess as a number between 1 and 100: 20\n",
      "WARMER!\n",
      "Please enter your guess as a number between 1 and 100: 15\n",
      "WARMER!\n",
      "Please enter your guess as a number between 1 and 100: 14\n",
      "COLDER!\n",
      "Please enter your guess as a number between 1 and 100: 16\n",
      "WARMER!\n",
      "Please enter your guess as a number between 1 and 100: 17\n",
      "Well done! You guessed correctly in 9 guesses.\n"
     ]
    }
   ],
   "source": [
    "while True:\n",
    "    # take user input as variable guess\n",
    "    guess = int(input(\"Please enter your guess as a number between 1 and 100: \"))\n",
    "    if guess <1 or guess >100:\n",
    "        print(\"Your number is outside the range 1 to 100! Please choose another number.\")\n",
    "        continue\n",
    "    \n",
    "    # compare user input with my_num and if correct end the game, if incorrect add the guess to guess_list \n",
    "    if guess == my_num:\n",
    "        print(f\"Well done! You guessed correctly in {len(guess_list)} guesses.\")\n",
    "        break\n",
    "    \n",
    "    guess_list.append(guess)\n",
    "    \n",
    "    # implement warmer or colder than previous guess functionality\n",
    "    # during first guess guess_list[-2] == 0 which evaluates to False and skips to warm/cold output\n",
    "    if guess_list[-2]:  \n",
    "        if abs(my_num-guess) < abs(my_num-guess_list[-2]):\n",
    "            print('WARMER!')\n",
    "        else:\n",
    "            print('COLDER!')\n",
    "   \n",
    "    # implement warm (less than 10) or cold (greater than 10) guess functionality\n",
    "    else:\n",
    "        if abs(my_num-guess) <= 10:\n",
    "            print('WARM!')\n",
    "        else:\n",
    "            print('COLD!')"
   ]
  },
  {
   "cell_type": "markdown",
   "metadata": {},
   "source": [
    "That's it! You've just programmed your first game!\n",
    "\n",
    "In the next section we'll learn how to turn some of these repetitive actions into *functions* that can be called whenever we need them."
   ]
  },
  {
   "cell_type": "markdown",
   "metadata": {},
   "source": [
    "### Good Job!"
   ]
  }
 ],
 "metadata": {
  "kernelspec": {
   "display_name": "Python 3",
   "language": "python",
   "name": "python3"
  },
  "language_info": {
   "codemirror_mode": {
    "name": "ipython",
    "version": 3
   },
   "file_extension": ".py",
   "mimetype": "text/x-python",
   "name": "python",
   "nbconvert_exporter": "python",
   "pygments_lexer": "ipython3",
   "version": "3.8.8"
  }
 },
 "nbformat": 4,
 "nbformat_minor": 2
}
